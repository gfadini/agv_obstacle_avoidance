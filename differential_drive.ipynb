{
 "cells": [
  {
   "cell_type": "markdown",
   "metadata": {},
   "source": [
    "# Differential drive kinamatics"
   ]
  },
  {
   "cell_type": "code",
   "execution_count": 1,
   "metadata": {},
   "outputs": [
    {
     "data": {
      "text/plain": [
       "(theta, v, x, y, t, omega, x_dot, y_dot, x_ddot, y_ddot, v_l, v_r, L, k)"
      ]
     },
     "execution_count": 1,
     "metadata": {},
     "output_type": "execute_result"
    }
   ],
   "source": [
    "var('theta, v, x, y, t, omega, x_dot, y_dot, x_ddot, y_ddot, v_l, v_r, L, k')"
   ]
  },
  {
   "cell_type": "code",
   "execution_count": 2,
   "metadata": {},
   "outputs": [
    {
     "data": {
      "text/html": [
       "<html><script type=\"math/tex; mode=display\">\\newcommand{\\Bold}[1]{\\mathbf{#1}}\\left[-5 \\, {\\left(\\cos\\left(\\theta\\right) - 1\\right)} \\cos\\left(\\theta\\right), -5 \\, {\\left(\\cos\\left(\\theta\\right) - 1\\right)} \\sin\\left(\\theta\\right)\\right] \\frac{{\\left({\\left(\\cos\\left(\\theta\\right) - 1\\right)} \\cos\\left(\\theta\\right) + \\cos\\left(\\theta\\right)^{2} - 2 \\, \\sin\\left(\\theta\\right)^{2}\\right)} {\\left({\\left(\\cos\\left(\\theta\\right) - 1\\right)} \\cos\\left(\\theta\\right) - \\sin\\left(\\theta\\right)^{2}\\right)} + {\\left({\\left(\\cos\\left(\\theta\\right) - 1\\right)} \\sin\\left(\\theta\\right) + 3 \\, \\cos\\left(\\theta\\right) \\sin\\left(\\theta\\right)\\right)} {\\left({\\left(\\cos\\left(\\theta\\right) - 1\\right)} \\sin\\left(\\theta\\right) + \\cos\\left(\\theta\\right) \\sin\\left(\\theta\\right)\\right)}}{5 \\, {\\left({\\left({\\left(\\cos\\left(\\theta\\right) - 1\\right)} \\cos\\left(\\theta\\right) - \\sin\\left(\\theta\\right)^{2}\\right)}^{2} + {\\left({\\left(\\cos\\left(\\theta\\right) - 1\\right)} \\sin\\left(\\theta\\right) + \\cos\\left(\\theta\\right) \\sin\\left(\\theta\\right)\\right)}^{2}\\right)}^{\\frac{3}{2}}} \\arctan\\left(-5 \\, {\\left(\\cos\\left(\\theta\\right) - 1\\right)} \\cos\\left(\\theta\\right) + 5 \\, \\sin\\left(\\theta\\right)^{2}, 5 \\, {\\left(\\cos\\left(\\theta\\right) - 1\\right)} \\sin\\left(\\theta\\right) + 5 \\, \\cos\\left(\\theta\\right) \\sin\\left(\\theta\\right)\\right)</script></html>"
      ],
      "text/plain": [
       "[-5*(cos(theta) - 1)*cos(theta), -5*(cos(theta) - 1)*sin(theta)] 1/5*(((cos(theta) - 1)*cos(theta) + cos(theta)^2 - 2*sin(theta)^2)*((cos(theta) - 1)*cos(theta) - sin(theta)^2) + ((cos(theta) - 1)*sin(theta) + 3*cos(theta)*sin(theta))*((cos(theta) - 1)*sin(theta) + cos(theta)*sin(theta)))/(((cos(theta) - 1)*cos(theta) - sin(theta)^2)^2 + ((cos(theta) - 1)*sin(theta) + cos(theta)*sin(theta))^2)^(3/2) arctan2(-5*(cos(theta) - 1)*cos(theta) + 5*sin(theta)^2, 5*(cos(theta) - 1)*sin(theta) + 5*cos(theta)*sin(theta))"
      ]
     },
     "metadata": {},
     "output_type": "display_data"
    }
   ],
   "source": [
    "fx = 5*(1-cos(theta))*cos(theta)\n",
    "fy = 5*(1-cos(theta))*sin(theta)\n",
    "\n",
    "fx_dot = derivative(fx, theta)\n",
    "fy_dot = derivative(fy, theta)\n",
    "\n",
    "fx_ddot = derivative(fx_dot, theta)\n",
    "fy_ddot = derivative(fy_dot, theta)\n",
    "\n",
    "slope = atan2(fy_dot, fx_dot)\n",
    "\n",
    "curvature = (fx_dot*fy_ddot - fy_dot*fx_ddot)/(fx_dot**2 + fy_dot**2)**(3/2)\n",
    "\n",
    "show([fx, fy], curvature, slope)"
   ]
  },
  {
   "cell_type": "code",
   "execution_count": 3,
   "metadata": {},
   "outputs": [
    {
     "data": {
      "application/vnd.jupyter.widget-view+json": {
       "model_id": "af075134d4ea4ff6945099155bdffba0",
       "version_major": 2,
       "version_minor": 0
      },
      "text/plain": [
       "SW50ZXJhY3RpdmUgZnVuY3Rpb24gPGZ1bmN0aW9uIF8gYXQgMHg3ZmUyZjdkNzZiNTA+IHdpdGggMSB3aWRnZXQKICB0OiBUcmFuc2Zvcm1GbG9hdFNsaWRlcih2YWx1ZT0wLjAsIGRlc2NyaXDigKY=\n"
      ]
     },
     "metadata": {},
     "output_type": "display_data"
    }
   ],
   "source": [
    "@interact\n",
    "def _(t = slider(0,2*pi)):\n",
    "    curve = parametric_plot((fx, fy), (theta, 0, 2 * pi))\n",
    "    dot = scatter_plot([[fx(t), fy(t)]])\n",
    "    radius = scatter_plot([[fx(t) - 1/curvature(t)*sin(slope(t)), fy(t) + 1/curvature(t)*cos(slope(t))]])\n",
    "    radius_locus = parametric_plot((fx(theta) - 1/curvature(theta)*sin(slope(theta)), fy(theta) + 1/curvature(theta)*cos(slope(theta))), (theta, 0, 2 * pi))\n",
    "    circumference = circle([fx(t) - 1/curvature(t)*sin(slope(t)), fy(t) + 1/curvature(t)*cos(slope(t))], 1/curvature(t))\n",
    "    plot = (curve + dot + radius + radius_locus)\n",
    "    plot.show(xmin=-10, xmax=10, ymin=-10,ymax=10)"
   ]
  },
  {
   "cell_type": "code",
   "execution_count": 4,
   "metadata": {},
   "outputs": [
    {
     "data": {
      "text/html": [
       "<html><script type=\"math/tex; mode=display\">\\newcommand{\\Bold}[1]{\\mathbf{#1}}\\left[v_{l} = \\frac{1}{2} \\, \\sqrt{x_{\\mathit{dot}}^{2} + y_{\\mathit{dot}}^{2}} {\\left(\\frac{{\\left(x_{\\mathit{dot}} y_{\\mathit{ddot}} - x_{\\mathit{ddot}} y_{\\mathit{dot}}\\right)} L}{{\\left(x_{\\mathit{dot}}^{2} + y_{\\mathit{dot}}^{2}\\right)}^{\\frac{3}{2}}} + 2\\right)}, v_{r} = -\\frac{1}{2} \\, \\sqrt{x_{\\mathit{dot}}^{2} + y_{\\mathit{dot}}^{2}} {\\left(\\frac{{\\left(x_{\\mathit{dot}} y_{\\mathit{ddot}} - x_{\\mathit{ddot}} y_{\\mathit{dot}}\\right)} L}{{\\left(x_{\\mathit{dot}}^{2} + y_{\\mathit{dot}}^{2}\\right)}^{\\frac{3}{2}}} - 2\\right)}, \\omega = \\frac{x_{\\mathit{dot}} y_{\\mathit{ddot}} - x_{\\mathit{ddot}} y_{\\mathit{dot}}}{x_{\\mathit{dot}}^{2} + y_{\\mathit{dot}}^{2}}\\right]</script></html>"
      ],
      "text/plain": [
       "[v_l == 1/2*sqrt(x_dot^2 + y_dot^2)*((x_dot*y_ddot - x_ddot*y_dot)*L/(x_dot^2 + y_dot^2)^(3/2) + 2),\n",
       " v_r == -1/2*sqrt(x_dot^2 + y_dot^2)*((x_dot*y_ddot - x_ddot*y_dot)*L/(x_dot^2 + y_dot^2)^(3/2) - 2),\n",
       " omega == (x_dot*y_ddot - x_ddot*y_dot)/(x_dot^2 + y_dot^2)]"
      ]
     },
     "metadata": {},
     "output_type": "display_data"
    },
    {
     "name": "stdout",
     "output_type": "stream",
     "text": [
      "[v_l == 1/2*sqrt(x_dot^2 + y_dot^2)*((x_dot*y_ddot - x_ddot*y_dot)*L/(x_dot^2 + y_dot^2)^(3/2) + 2), v_r == -1/2*sqrt(x_dot^2 + y_dot^2)*((x_dot*y_ddot - x_ddot*y_dot)*L/(x_dot^2 + y_dot^2)^(3/2) - 2), omega == (x_dot*y_ddot - x_ddot*y_dot)/(x_dot^2 + y_dot^2)]\n"
     ]
    }
   ],
   "source": [
    "system = [(v_l + v_r)/2 == sqrt(x_dot**2 + y_dot**2),\n",
    "          (v_l - v_r)/L == omega,\n",
    "         omega == sqrt(x_dot**2 + y_dot**2) * k\n",
    "        ]\n",
    "solution = solve(system, [v_l, v_r, omega])[0]\n",
    "solution_rewritten = []\n",
    "for control in solution:\n",
    "    solution_rewritten.append(control.substitute(k == (x_dot*y_ddot - y_dot*x_ddot)/(x_dot**2 + y_dot**2)**(3/2)).simplify())\n",
    "show(solution_rewritten)\n",
    "print solution_rewritten"
   ]
  },
  {
   "cell_type": "code",
   "execution_count": 79,
   "metadata": {},
   "outputs": [
    {
     "data": {
      "text/html": [
       "<html><script type=\"math/tex; mode=display\">\\newcommand{\\Bold}[1]{\\mathbf{#1}}\\frac{{\\rm ay}\\left(t\\right) {\\rm vx}\\left(t\\right) - {\\rm ax}\\left(t\\right) {\\rm vy}\\left(t\\right)}{{\\rm vx}\\left(t\\right)^{2} + {\\rm vy}\\left(t\\right)^{2}}</script></html>"
      ],
      "text/plain": [
       "(ay(t)*vx(t) - ax(t)*vy(t))/(vx(t)^2 + vy(t)^2)"
      ]
     },
     "metadata": {},
     "output_type": "display_data"
    }
   ],
   "source": [
    "omega = solution_rewritten[-1].rhs()\n",
    "var('t')\n",
    "function('vx, ax, vy, ay')\n",
    "substitution = [x_dot == vx(t), y_dot == vy(t), x_ddot == ax(t), y_ddot == ay(t)]\n",
    "show(omega.substitute(substitution))"
   ]
  },
  {
   "cell_type": "code",
   "execution_count": 85,
   "metadata": {},
   "outputs": [
    {
     "data": {
      "text/html": [
       "<html><script type=\"math/tex; mode=display\">\\newcommand{\\Bold}[1]{\\mathbf{#1}}-\\frac{2 \\, {\\rm ay}\\left(t\\right) {\\rm vx}\\left(t\\right)^{2} \\frac{\\partial}{\\partial t}{\\rm vx}\\left(t\\right)}{{\\rm vx}\\left(t\\right)^{4} + 2 \\, {\\rm vx}\\left(t\\right)^{2} {\\rm vy}\\left(t\\right)^{2} + {\\rm vy}\\left(t\\right)^{4}} + \\frac{2 \\, {\\rm ax}\\left(t\\right) {\\rm vx}\\left(t\\right) {\\rm vy}\\left(t\\right) \\frac{\\partial}{\\partial t}{\\rm vx}\\left(t\\right)}{{\\rm vx}\\left(t\\right)^{4} + 2 \\, {\\rm vx}\\left(t\\right)^{2} {\\rm vy}\\left(t\\right)^{2} + {\\rm vy}\\left(t\\right)^{4}} - \\frac{2 \\, {\\rm ay}\\left(t\\right) {\\rm vx}\\left(t\\right) {\\rm vy}\\left(t\\right) \\frac{\\partial}{\\partial t}{\\rm vy}\\left(t\\right)}{{\\rm vx}\\left(t\\right)^{4} + 2 \\, {\\rm vx}\\left(t\\right)^{2} {\\rm vy}\\left(t\\right)^{2} + {\\rm vy}\\left(t\\right)^{4}} + \\frac{2 \\, {\\rm ax}\\left(t\\right) {\\rm vy}\\left(t\\right)^{2} \\frac{\\partial}{\\partial t}{\\rm vy}\\left(t\\right)}{{\\rm vx}\\left(t\\right)^{4} + 2 \\, {\\rm vx}\\left(t\\right)^{2} {\\rm vy}\\left(t\\right)^{2} + {\\rm vy}\\left(t\\right)^{4}} - \\frac{{\\rm vy}\\left(t\\right) \\frac{\\partial}{\\partial t}{\\rm ax}\\left(t\\right)}{{\\rm vx}\\left(t\\right)^{2} + {\\rm vy}\\left(t\\right)^{2}} + \\frac{{\\rm vx}\\left(t\\right) \\frac{\\partial}{\\partial t}{\\rm ay}\\left(t\\right)}{{\\rm vx}\\left(t\\right)^{2} + {\\rm vy}\\left(t\\right)^{2}} + \\frac{{\\rm ay}\\left(t\\right) \\frac{\\partial}{\\partial t}{\\rm vx}\\left(t\\right)}{{\\rm vx}\\left(t\\right)^{2} + {\\rm vy}\\left(t\\right)^{2}} - \\frac{{\\rm ax}\\left(t\\right) \\frac{\\partial}{\\partial t}{\\rm vy}\\left(t\\right)}{{\\rm vx}\\left(t\\right)^{2} + {\\rm vy}\\left(t\\right)^{2}}</script></html>"
      ],
      "text/plain": [
       "-2*ay(t)*vx(t)^2*diff(vx(t), t)/(vx(t)^4 + 2*vx(t)^2*vy(t)^2 + vy(t)^4) + 2*ax(t)*vx(t)*vy(t)*diff(vx(t), t)/(vx(t)^4 + 2*vx(t)^2*vy(t)^2 + vy(t)^4) - 2*ay(t)*vx(t)*vy(t)*diff(vy(t), t)/(vx(t)^4 + 2*vx(t)^2*vy(t)^2 + vy(t)^4) + 2*ax(t)*vy(t)^2*diff(vy(t), t)/(vx(t)^4 + 2*vx(t)^2*vy(t)^2 + vy(t)^4) - vy(t)*diff(ax(t), t)/(vx(t)^2 + vy(t)^2) + vx(t)*diff(ay(t), t)/(vx(t)^2 + vy(t)^2) + ay(t)*diff(vx(t), t)/(vx(t)^2 + vy(t)^2) - ax(t)*diff(vy(t), t)/(vx(t)^2 + vy(t)^2)"
      ]
     },
     "metadata": {},
     "output_type": "display_data"
    }
   ],
   "source": [
    "derivatives_relation = [diff(vx(t), t) == ax(t), diff(vy(t),t) == ay(t)]\n",
    "second_order = diff(curvature.substitute(substitution), t).expand()\n",
    "show(second_order)"
   ]
  },
  {
   "cell_type": "code",
   "execution_count": 94,
   "metadata": {},
   "outputs": [
    {
     "data": {
      "text/html": [
       "<html><script type=\"math/tex; mode=display\">\\newcommand{\\Bold}[1]{\\mathbf{#1}}-\\frac{2 \\, {\\left({\\rm ax}\\left(t\\right) {\\rm ay}\\left(t\\right) {\\rm vx}\\left(t\\right)^{2} - {\\rm ax}\\left(t\\right) {\\rm ay}\\left(t\\right) {\\rm vy}\\left(t\\right)^{2} - {\\left({\\rm ax}\\left(t\\right)^{2} - {\\rm ay}\\left(t\\right)^{2}\\right)} {\\rm vx}\\left(t\\right) {\\rm vy}\\left(t\\right)\\right)}}{{\\rm vx}\\left(t\\right)^{4} + 2 \\, {\\rm vx}\\left(t\\right)^{2} {\\rm vy}\\left(t\\right)^{2} + {\\rm vy}\\left(t\\right)^{4}}</script></html>"
      ],
      "text/plain": [
       "-2*(ax(t)*ay(t)*vx(t)^2 - ax(t)*ay(t)*vy(t)^2 - (ax(t)^2 - ay(t)^2)*vx(t)*vy(t))/(vx(t)^4 + 2*vx(t)^2*vy(t)^2 + vy(t)^4)"
      ]
     },
     "metadata": {},
     "output_type": "display_data"
    }
   ],
   "source": [
    "small_acceleration_change = [diff(ax(t),t) == 0, diff(ay(t),t) == 0]\n",
    "show(second_order.substitute(derivatives_relation, small_acceleration_change).full_simplify())"
   ]
  }
 ],
 "metadata": {
  "kernelspec": {
   "display_name": "SageMath 8.9",
   "language": "sage",
   "name": "sagemath"
  },
  "language_info": {
   "codemirror_mode": {
    "name": "ipython",
    "version": 2
   },
   "file_extension": ".py",
   "mimetype": "text/x-python",
   "name": "python",
   "nbconvert_exporter": "python",
   "pygments_lexer": "ipython2",
   "version": "2.7.17"
  }
 },
 "nbformat": 4,
 "nbformat_minor": 2
}
